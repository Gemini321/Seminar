{
 "cells": [
  {
   "cell_type": "markdown",
   "metadata": {},
   "source": [
    "# Machine Learning(Pandas)"
   ]
  },
  {
   "cell_type": "markdown",
   "metadata": {},
   "source": [
    "## Pandas\n",
    "Python中的Pandas库通常用来做数据的读取、分析和预处理，能在数据上做各种变换\n",
    "### 数据类型\n",
    "![jupyter](./classes.jfif)"
   ]
  },
  {
   "cell_type": "markdown",
   "metadata": {},
   "source": [
    "### 新建对象\n",
    "* Series  \n",
    "  可以传入一个list对象来新建Series（创建时会默认创建一列索引index，位于最左侧）  \n",
    "* DataFrame  \n",
    "  1. 可以传入一个numpy数组，并指定index和列名  \n",
    "  2. 可以传入一个dict对象"
   ]
  },
  {
   "cell_type": "code",
   "execution_count": 5,
   "metadata": {},
   "outputs": [
    {
     "name": "stdout",
     "output_type": "stream",
     "text": [
      "0    1.0\n",
      "1    3.0\n",
      "2    4.0\n",
      "3    NaN\n",
      "4    7.0\n",
      "dtype: float64\n",
      "\n",
      "1    1.0\n",
      "1    3.0\n",
      "2    4.0\n",
      "a    NaN\n",
      "4    7.0\n",
      "dtype: float64\n"
     ]
    }
   ],
   "source": [
    "import numpy as np\n",
    "import pandas as pd\n",
    "s = pd.Series([1, 3, 4, np.nan, 7]) # 新建Series\n",
    "print(s)\n",
    "print()\n",
    "s = pd.Series([1, 3, 4, np.nan, 7], index=[1, 1, 2, 'a', 4])\n",
    "print(s)"
   ]
  },
  {
   "cell_type": "code",
   "execution_count": 9,
   "metadata": {},
   "outputs": [
    {
     "name": "stdout",
     "output_type": "stream",
     "text": [
      "DatetimeIndex(['2019-01-01', '2019-01-02', '2019-01-03', '2019-01-04',\n",
      "               '2019-01-05', '2019-01-06'],\n",
      "              dtype='datetime64[ns]', freq='D')\n",
      "\n",
      "DatetimeIndex(['2019-01-01', '2019-01-02', '2019-01-03', '2019-01-04',\n",
      "               '2019-01-05', '2019-01-06'],\n",
      "              dtype='datetime64[ns]', freq='D')\n",
      "\n",
      "     A          B    C  D      E    F\n",
      "0  1.0 2019-01-01  1.0  3   test  foo\n",
      "1  1.0 2019-01-01  1.0  3   tain  foo\n",
      "2  1.0 2019-01-01  1.0  3   test  foo\n",
      "3  1.0 2019-01-01  1.0  3  train  foo\n",
      "\n"
     ]
    }
   ],
   "source": [
    "dates = pd.date_range('20190101', periods=6) # 传入列表\n",
    "print(dates)\n",
    "print()\n",
    "df = pd.DataFrame(np.random.randn(6,4), index=dates, columns=list('ABCD'))\n",
    "print(dates)\n",
    "print()\n",
    "df2 = pd.DataFrame({'A':1., # 传入字典\n",
    "                    'B':pd.Timestamp('20190101'),\n",
    "                    'C':pd.Series(1, index=list(range(4)), dtype='float32'),\n",
    "                    'D':np.array([3]*4, dtype='int32'),\n",
    "                    'E':pd.Categorical([\"test\", \"tain\", \"test\", \"train\"]),\n",
    "                    'F':'foo'})\n",
    "print(df2)\n",
    "print()"
   ]
  },
  {
   "cell_type": "code",
   "execution_count": 11,
   "metadata": {},
   "outputs": [
    {
     "name": "stdout",
     "output_type": "stream",
     "text": [
      "     A    B     C\n",
      "0  132  456  4121\n",
      "1  132  456    45\n"
     ]
    }
   ],
   "source": [
    "df = pd.DataFrame({'A': 132, 'B': 456, 'C': [4121, 45]}) # 广播机制，将A、B两列复制广播\n",
    "print(df)"
   ]
  },
  {
   "cell_type": "markdown",
   "metadata": {},
   "source": [
    "### 查看数据\n",
    "* 查看开头/结尾n行：df.head(n), df.tail(n)\n",
    "* 查看index/列名：df.index, df.columns\n",
    "* 查看统计结果：df.describe()\n",
    "* 转置：df.T\n",
    "* 按坐标轴排序（0为沿行排序，1为沿列排序）+ 是否降序：df.sort_index(axis=0, ascending=True)"
   ]
  },
  {
   "cell_type": "markdown",
   "metadata": {},
   "source": [
    "### 筛选数据\n",
    "* 获取某列：df['A']\n",
    "* 获取某行：df[0:3]（可切片）\n",
    "* 通过标签选择：（赋值同理）\n",
    "    * 选择某行：df.loc[dates[0]]（dates为df的初始数据）\n",
    "    * 选择指定行列：df.loc['20190102':'20190105', ('A', 'C')]（前一半是行，后一半是列）\n",
    "    * 选择某值：df.loc['20190102', 'A']，df.at[dates[1], 'A']（前者可以用字符串，后者必须用原来的数据行）\n",
    "* 通过位置选择：\n",
    "    * 选择某行：df.iloc[3]（第三行）\n",
    "    * 选择指定行列：df.iloc[3:7, 0:5]（3\\~6行 $\\times$ 0\\~4列），df.iloc[[1, 2], [3, 4, 5]]\n",
    "    * 选择某值：df.iloc[1, 1]\n",
    "* 按条件选择：\n",
    "    * 按某列的数值选择：df.[df.A > 0]\n",
    "    * 筛选出合适的数据：df.[df > 0]\n",
    "    * 使用isin()方法：df['E'].isin(['two', 'four'])（输出一列True,False），df2[df2['E'].isin(['two', 'four'])]（选择出True的那几行）（注意：isin()需严格一致才能匹配）\n",
    "* 通过NumPy array赋值：df.loc[:, 'D'] = np.array([5] * len(df))（将'D'列设为5）"
   ]
  },
  {
   "cell_type": "markdown",
   "metadata": {},
   "source": [
    "### 空值处理\n",
    "pandas默认使用np.nan来表示空值，在统计计算中会直接忽略。\n",
    "* 修改坐标轴：df1 = df.reindex(index=dates[0:4], columns=list(df.columns) + ['E'])（选择[0: 4]行并添加'E'列）\n",
    "* 填充空值：df1.fillna(value=5)（所有np.nan=5）\n",
    "* 删除空值：df1.dropna(how='any')（整行删除）\n",
    "* 判断空值：pd.isna(df1)（返回所有值的真假表）"
   ]
  },
  {
   "cell_type": "markdown",
   "metadata": {},
   "source": [
    "### 运算\n",
    "* 统计\n",
    "    注意：所有统计默认不包括空值\n",
    "    * 平均值：df.mean()（一般按列为单位求，一类数据），df.mean(1)（按行求）\n",
    "    * 数值移动：s = s.shift(2)（向后移动，新增值用NaN表示）\n",
    "    * 运算：df.sub(s, axis='index')（广播，以NaN拓展；与NaN相减为NaN）\n",
    "    * 其他函数见[统计函数整理](https://blog.csdn.net/jiebutianxia/article/details/82216428)\n",
    "* 应用\n",
    "    通过apply()方法，对一列数据进行逐一操作\n",
    "    * 累计求和：df.apply(np.cumsum) = df.cumsum()\n",
    "    * 自定义方法：df.apply(lambda x: x.max() - x.min())（求极差）\n",
    "    * 统计元素出现次数：s.value_counts()\n",
    "    通过map()方法，对一列的每一个数据进行函数操作\n",
    "    * data[ column_1 ].map(len).map(lambda x: x/100).plot()（链式方法：先化为长度，再除100）\n",
    "    通过applymap()，给表内所有单元应用一个函数\n",
    "* String方法：\n",
    "    调用str的属性方法对每个对象操作\n",
    "    * 大小写转换：s.str.upper()\n",
    "    * 分裂：s.str.split(',', expand=True)（分成矩阵，可广播扩展）\n",
    "    * 其他方法：<https://segmentfault.com/a/1190000018281039?utm_source=tag-newest>"
   ]
  },
  {
   "cell_type": "markdown",
   "metadata": {},
   "source": [
    "### 合并\n",
    "* Concat方法：pd.concat([report1, report2], axis=0)（上下接）\n",
    "* Merge方法：data.merge(other_data, on=[ column_1 ,  column_2 ,  column_3 ])\n",
    "* Append方法"
   ]
  },
  {
   "cell_type": "markdown",
   "metadata": {},
   "source": [
    "### 分类目录类型\n",
    "* 类型转换：df['grade'] = df['raw_grade'].astype('category')（将一列变为category类型）\n",
    "* 重命名分类：df[\"grade\"].cat.categories = [\"very good\", \"good\", \"very bad\"]（基于category分类）\n",
    "* 排列：df.sort_values(by=\"grade\")\n",
    "* 分组：df.groupby(\"grade\").size()\n",
    "* 生成One hot encode：dummies = pd.get_dummies(df, prefix=None, columns=None)"
   ]
  },
  {
   "cell_type": "code",
   "execution_count": 16,
   "metadata": {},
   "outputs": [
    {
     "data": {
      "text/plain": [
       "0    a\n",
       "1    b\n",
       "2    b\n",
       "3    a\n",
       "4    a\n",
       "5    e\n",
       "Name: grade, dtype: category\n",
       "Categories (3, object): [a, b, e]"
      ]
     },
     "execution_count": 16,
     "metadata": {},
     "output_type": "execute_result"
    }
   ],
   "source": [
    "df = pd.DataFrame({\"id\": [1, 2, 3, 4, 5, 6],\n",
    "\"raw_grade\": ['a', 'b', 'b', 'a', 'a', 'e']})\n",
    "df['grade'] = df['raw_grade'].astype('category')\n",
    "df['grade']"
   ]
  },
  {
   "cell_type": "markdown",
   "metadata": {},
   "source": [
    "### 导入导出数据\n",
    "* CSV：pd.read_csv('foo.csv')，df.to_csv('foo.csv')，data = pd.read_csv('my_file.csv' , sep= ,, encoding= latin-1 , nrows=1000, skiprows=[2,5])\n",
    "* HDF5：pd.read_hdf('foo.h5', 'df')，df.to_hdf('foo.h5', 'df')\n",
    "* Excel：pd.read_excel('foo.xlsx', 'Sheet1', index_col=None, na_values=['NA'])，df.to_excel('foo.xlsx', sheet_name='Sheet1')"
   ]
  },
  {
   "cell_type": "markdown",
   "metadata": {},
   "source": [
    "### 绘图\n",
    "在Jupyter使用时要加上%matplotlib inline\n",
    "* 折线图：data[column].plot()\n",
    "* 直方图：data[column].hist()"
   ]
  },
  {
   "cell_type": "code",
   "execution_count": null,
   "metadata": {},
   "outputs": [],
   "source": []
  }
 ],
 "metadata": {
  "kernelspec": {
   "display_name": "Python 3",
   "language": "python",
   "name": "python3"
  },
  "language_info": {
   "codemirror_mode": {
    "name": "ipython",
    "version": 3
   },
   "file_extension": ".py",
   "mimetype": "text/x-python",
   "name": "python",
   "nbconvert_exporter": "python",
   "pygments_lexer": "ipython3",
   "version": "3.7.6"
  }
 },
 "nbformat": 4,
 "nbformat_minor": 4
}
