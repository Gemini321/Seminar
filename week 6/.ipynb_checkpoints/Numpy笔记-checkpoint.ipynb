{
 "cells": [
  {
   "cell_type": "markdown",
   "metadata": {},
   "source": [
    "# NumPy"
   ]
  },
  {
   "cell_type": "code",
   "execution_count": 1,
   "metadata": {},
   "outputs": [],
   "source": [
    "import numpy as np"
   ]
  },
  {
   "cell_type": "markdown",
   "metadata": {},
   "source": [
    "## NumPy Ndarray对象"
   ]
  },
  {
   "cell_type": "markdown",
   "metadata": {},
   "source": [
    "```python\n",
    "numpy.array(object, dtype = None, copy = True, order = None, subok = False, ndmin = 0)\n",
    "```"
   ]
  },
  {
   "cell_type": "markdown",
   "metadata": {},
   "source": [
    "* object：数列或嵌套数列\n",
    "* dtype：数据类型\n",
    "* copy：对象是否需要复制\n",
    "* order：创建数组的样式（C：行方向；F：列方向；A：任意方向（默认））\n",
    "* subok：返回一个与基类类型相同的数组\n",
    "* ndmin：指定最小维度"
   ]
  },
  {
   "cell_type": "code",
   "execution_count": 3,
   "metadata": {},
   "outputs": [
    {
     "name": "stdout",
     "output_type": "stream",
     "text": [
      "[[1 2]\n",
      " [3 4]]\n"
     ]
    }
   ],
   "source": [
    "# 多于一个维度  \n",
    "import numpy as np \n",
    "a = np.array([[1,  2],  [3,  4]])  \n",
    "print (a)"
   ]
  },
  {
   "cell_type": "code",
   "execution_count": 4,
   "metadata": {},
   "outputs": [
    {
     "name": "stdout",
     "output_type": "stream",
     "text": [
      "[[1 2 3 4 5]]\n"
     ]
    }
   ],
   "source": [
    "import numpy as np \n",
    "a = np.array([1,  2,  3,4,5], ndmin =  2)  \n",
    "print (a)"
   ]
  },
  {
   "cell_type": "markdown",
   "metadata": {},
   "source": [
    "```python\n",
    "numpy.dtype(object, align, copy)\n",
    "```"
   ]
  },
  {
   "cell_type": "code",
   "execution_count": 6,
   "metadata": {},
   "outputs": [
    {
     "name": "stdout",
     "output_type": "stream",
     "text": [
      "int32\n",
      "[(b'abc', 21, 50.) (b'xyz', 18, 75.)]\n"
     ]
    }
   ],
   "source": [
    "import numpy as np\n",
    "# int8, int16, int32, int64 四种数据类型可以使用字符串 'i1', 'i2','i4','i8' 代替\n",
    "dt = np.dtype('i4')\n",
    "print(dt)\n",
    "\n",
    "import numpy as np # 类似于结构体（S20 name; i1 age; f4 marks;）\n",
    "student = np.dtype([('name','S20'), ('age', 'i1'), ('marks', 'f4')]) \n",
    "a = np.array([('abc', 21, 50),('xyz', 18, 75)], dtype = student) # name = 'abc', age = 21, marks = 50 \n",
    "print(a)"
   ]
  },
  {
   "cell_type": "markdown",
   "metadata": {},
   "source": [
    "| 属性 | 说明 |\n",
    "| :-----: | :-----: |\n",
    "| ndarray.ndim | 秩/维度 |\n",
    "| ndarray.shape | n行m列 |\n",
    "| ndarray.size | 元素总数（n\\*m） |\n",
    "| ndarray.dtype | 元素的类型 |"
   ]
  },
  {
   "cell_type": "markdown",
   "metadata": {},
   "source": [
    "很多时候可以声明 axis。axis=0，表示沿着第 0 轴进行操作，即对每一列进行操作；axis=1，表示沿着第1轴进行操作，即对每一行进行操作。"
   ]
  },
  {
   "cell_type": "code",
   "execution_count": 8,
   "metadata": {},
   "outputs": [
    {
     "name": "stdout",
     "output_type": "stream",
     "text": [
      "(2, 3)\n",
      "[[1 2]\n",
      " [3 4]\n",
      " [5 6]]\n",
      "[[1 2]\n",
      " [3 4]\n",
      " [5 6]]\n"
     ]
    }
   ],
   "source": [
    "a = np.array([[1,2,3],[4,5,6]])  \n",
    "print (a.shape) # shape\n",
    "\n",
    "a = np.array([[1,2,3],[4,5,6]]) \n",
    "a.shape =  (3,2)  # 调整shape，变成3行2列\n",
    "print (a)\n",
    "\n",
    "a = np.array([[1,2,3],[4,5,6]]) \n",
    "b = a.reshape(3,2)  # 同上\n",
    "print (b)"
   ]
  },
  {
   "cell_type": "markdown",
   "metadata": {},
   "source": [
    "## Numpy创建数组\n",
    "```python\n",
    "numpy.empty(shape, dtype = float, order = 'C') # 创建空数组\n",
    "numpy.zeros(shape, dtype = float, order = 'C') # 创建用0填充的数组\n",
    "numpy.ones(shape, dtype = None, order = 'C')  # 创建用1填充的数组\n",
    "numpy.frombuffer(buffer, dtype = float, count = -1, offset = 0) # 以流的形式读入转化成ndarray对象（需要指定对象类型）\n",
    "numpy.fromiter(iterable, dtype, count=-1) # 从可迭代对象中建立 ndarray 对象，返回一维数组\n",
    "numpy.arange(start, stop, step, dtype) # 创建数值范围并返回 ndarray 对象\n",
    "np.linspace(start, stop, num=50, endpoint=True, retstep=False, dtype=None) # 生成等差数组\n",
    "np.logspace(start, stop, num=50, endpoint=True, base=10.0, dtype=None) # 生成等比数组\n",
    "```"
   ]
  },
  {
   "cell_type": "markdown",
   "metadata": {},
   "source": [
    "*注意：buffer 是字符串的时候，Python3 默认 str 是 Unicode 类型，所以要转成 bytestring 在原 str 前加上 b。*"
   ]
  },
  {
   "cell_type": "code",
   "execution_count": 10,
   "metadata": {},
   "outputs": [
    {
     "name": "stdout",
     "output_type": "stream",
     "text": [
      "[b'H' b'e' b'l' b'l' b'o' b' ' b'W' b'o' b'r' b'l' b'd']\n"
     ]
    }
   ],
   "source": [
    "s =  b'Hello World' \n",
    "a = np.frombuffer(s, dtype =  'S1')  # 注意数据类型；只能生成数组\n",
    "print (a)"
   ]
  },
  {
   "cell_type": "code",
   "execution_count": 11,
   "metadata": {},
   "outputs": [
    {
     "name": "stdout",
     "output_type": "stream",
     "text": [
      "[0. 1. 2. 3. 4.]\n"
     ]
    }
   ],
   "source": [
    "# 使用 range 函数创建列表对象  \n",
    "list=range(5)\n",
    "it=iter(list)\n",
    "# 使用迭代器创建 ndarray \n",
    "x=np.fromiter(it, dtype=float)\n",
    "print(x)"
   ]
  },
  {
   "cell_type": "code",
   "execution_count": 16,
   "metadata": {
    "scrolled": true
   },
   "outputs": [
    {
     "name": "stdout",
     "output_type": "stream",
     "text": [
      "[10 12 14 16 18]\n",
      "\n",
      "[[ 1.]\n",
      " [ 2.]\n",
      " [ 3.]\n",
      " [ 4.]\n",
      " [ 5.]\n",
      " [ 6.]\n",
      " [ 7.]\n",
      " [ 8.]\n",
      " [ 9.]\n",
      " [10.]]\n",
      "\n",
      "[  1.   2.   4.   8.  16.  32.  64. 128. 256. 512.]\n",
      "\n",
      "[ 10.          12.91549665  16.68100537  21.5443469   27.82559402\n",
      "  35.93813664  46.41588834  59.94842503  77.42636827 100.        ]\n"
     ]
    }
   ],
   "source": [
    "x = np.arange(10,20,2) # 范围依次生成数组[start: end: step] \n",
    "print (x)\n",
    "print()\n",
    "\n",
    "a = np.linspace(1,10,10).reshape([10,1]) # 生成等差数组（与上面类似）\n",
    "print(a)\n",
    "print()\n",
    "\n",
    "a = np.logspace(0,9,10,base=2) # 生成等比数组（从下标0和9中输出10个数）\n",
    "print (a)\n",
    "print()\n",
    "\n",
    "# 默认底数是 10\n",
    "a = np.logspace(1.0,  2.0, num =  10)  # 生成等比数组（从下标1和2中输出10个数）\n",
    "print (a)"
   ]
  },
  {
   "cell_type": "markdown",
   "metadata": {},
   "source": [
    "## NumPy 切片和索引"
   ]
  },
  {
   "cell_type": "code",
   "execution_count": 17,
   "metadata": {},
   "outputs": [
    {
     "name": "stdout",
     "output_type": "stream",
     "text": [
      "[2 4 6]\n",
      "\n",
      "[2 4 6]\n"
     ]
    }
   ],
   "source": [
    "a = np.arange(10)\n",
    "s = slice(2,7,2)   # 从索引 2 开始到索引 7 停止，间隔为2\n",
    "print (a[s])\n",
    "print()\n",
    "\n",
    "b = a[2:7:2]   # 从索引 2 开始到索引 7 停止，间隔为 2\n",
    "print(b)"
   ]
  },
  {
   "cell_type": "code",
   "execution_count": 18,
   "metadata": {},
   "outputs": [
    {
     "name": "stdout",
     "output_type": "stream",
     "text": [
      "[2 4 5]\n",
      "[3 4 5]\n",
      "[[2 3]\n",
      " [4 5]\n",
      " [5 6]]\n"
     ]
    }
   ],
   "source": [
    "a = np.array([[1,2,3],[3,4,5],[4,5,6]]) # 用省略号表示\n",
    "print (a[...,1])   # 第2列元素\n",
    "print (a[1,...])   # 第2行元素\n",
    "print (a[...,1:])  # 第2列及剩下的所有元素"
   ]
  },
  {
   "cell_type": "code",
   "execution_count": 19,
   "metadata": {},
   "outputs": [
    {
     "name": "stdout",
     "output_type": "stream",
     "text": [
      "[1 4 5]\n",
      "\n",
      "大于 5 的元素是：\n",
      "[ 6  7  8  9 10 11]\n"
     ]
    }
   ],
   "source": [
    "x = np.array([[1,  2],  [3,  4],  [5,  6]]) \n",
    "y = x[[0,1,2],  [0,1,0]]  # 获取数组中(0,0)，(1,1)和(2,0)位置处的元素\n",
    "print (y)\n",
    "print()\n",
    "\n",
    "x = np.array([[  0,  1,  2],[  3,  4,  5],[  6,  7,  8],[  9,  10,  11]])\n",
    "print  ('大于 5 的元素是：')\n",
    "print (x[x > 5]) # 布尔索引"
   ]
  },
  {
   "cell_type": "code",
   "execution_count": 20,
   "metadata": {},
   "outputs": [
    {
     "name": "stdout",
     "output_type": "stream",
     "text": [
      "[1. 2. 3. 4. 5.]\n",
      "[2. +6.j 3.5+5.j]\n"
     ]
    }
   ],
   "source": [
    "a = np.array([np.nan,  1,2,np.nan,3,4,5])  \n",
    "print (a[~np.isnan(a)])  # 过滤NaN\n",
    "\n",
    "a = np.array([1,  2+6j,  5,  3.5+5j])  \n",
    "print (a[np.iscomplex(a)]) # 过滤非复数元素"
   ]
  },
  {
   "cell_type": "code",
   "execution_count": 21,
   "metadata": {},
   "outputs": [
    {
     "name": "stdout",
     "output_type": "stream",
     "text": [
      "[[16 17 18 19]\n",
      " [24 25 26 27]\n",
      " [28 29 30 31]\n",
      " [ 4  5  6  7]]\n"
     ]
    }
   ],
   "source": [
    "x=np.arange(32).reshape((8,4)) # 花式切片：对应行的下标下标\n",
    "print (x[[-4,-2,-1,-7]])"
   ]
  },
  {
   "cell_type": "markdown",
   "metadata": {},
   "source": [
    "## NumPy 广播(Broadcast) "
   ]
  },
  {
   "cell_type": "markdown",
   "metadata": {},
   "source": [
    "广播(Broadcast)是 numpy 对不同形状(shape)的数组进行数值计算的方式， 对数组的算术运算通常在**相应的元素**上进行。  \n",
    "如果两个数组 a 和 b 形状相同，即满足 a.shape == b.shape，那么 a\\*b 的结果就是 a 与 b 数组**对应位相乘**。这要求维数相同，且各维度的长度相同。"
   ]
  },
  {
   "cell_type": "markdown",
   "metadata": {},
   "source": [
    "![jupyter](./broadcast.gif)"
   ]
  },
  {
   "cell_type": "code",
   "execution_count": 23,
   "metadata": {},
   "outputs": [
    {
     "name": "stdout",
     "output_type": "stream",
     "text": [
      "[[ 1  2  3]\n",
      " [11 12 13]\n",
      " [21 22 23]\n",
      " [31 32 33]]\n"
     ]
    }
   ],
   "source": [
    "a = np.array([[0, 0, 0], [10, 10, 10], [20, 20, 20], [30, 30, 30]])\n",
    "b = np.array([1, 2, 3])  # 其中一维为1，自动扩充\n",
    "print(a + b)"
   ]
  },
  {
   "cell_type": "markdown",
   "metadata": {},
   "source": [
    "广播的规则：\n",
    "* 数组拥有相同形状。\n",
    "* 当前维度的值相等。\n",
    "* 当前维度的值有一个是 1。\n",
    "* 让所有输入数组都向其中形状最长的数组看齐，形状中不足的部分都通过在前面加 1 补齐。"
   ]
  },
  {
   "cell_type": "markdown",
   "metadata": {},
   "source": [
    "## NumPy 迭代数组"
   ]
  },
  {
   "cell_type": "code",
   "execution_count": 24,
   "metadata": {},
   "outputs": [
    {
     "name": "stdout",
     "output_type": "stream",
     "text": [
      "原始数组是：\n",
      "[[0 1 2]\n",
      " [3 4 5]]\n",
      "\n",
      "\n",
      "迭代输出元素：\n",
      "0, 1, 2, 3, 4, 5, \n",
      "\n"
     ]
    }
   ],
   "source": [
    "a = np.arange(6).reshape(2,3)\n",
    "print ('原始数组是：')\n",
    "print (a)\n",
    "print ('\\n')\n",
    "print ('迭代输出元素：')\n",
    "for x in np.nditer(a): # 将数组迭代\n",
    "    print (x, end=\", \" )\n",
    "print ('\\n')"
   ]
  },
  {
   "cell_type": "code",
   "execution_count": 25,
   "metadata": {},
   "outputs": [
    {
     "name": "stdout",
     "output_type": "stream",
     "text": [
      "第一个数组为：\n",
      "[[ 0  5 10 15]\n",
      " [20 25 30 35]\n",
      " [40 45 50 55]]\n",
      "\n",
      "\n",
      "第二个数组为：\n",
      "[1 2 3 4]\n",
      "\n",
      "\n",
      "修改后的数组为：\n",
      "(0:1), (5:2), (10:3), (15:4), (20:1), (25:2), (30:3), (35:4), (40:1), (45:2), (50:3), (55:4), "
     ]
    }
   ],
   "source": [
    "a = np.arange(0,60,5) \n",
    "a = a.reshape(3,4)  \n",
    "print  ('第一个数组为：')\n",
    "print (a)\n",
    "print  ('\\n')\n",
    "print ('第二个数组为：')\n",
    "b = np.array([1,  2,  3,  4], dtype =  int)  \n",
    "print (b)\n",
    "print ('\\n')\n",
    "print ('修改后的数组为：')\n",
    "for x,y in np.nditer([a,b]):  # 若两个数组可广播，则可同时迭代\n",
    "    print (\"(%d:%d)\"  %  (x,y), end=\", \" )"
   ]
  },
  {
   "cell_type": "markdown",
   "metadata": {},
   "source": [
    "## 数组操作\n",
    "* 修改数组形状\n",
    "* 翻转数组\n",
    "* 修改数组维度\n",
    "* 连接与分割数组\n",
    "* 数组元素的添加与删除  \n",
    "具体操作请点击[数组操作详解](https://www.runoob.com/numpy/numpy-array-manipulation.html#numpy_oparr1)"
   ]
  },
  {
   "cell_type": "markdown",
   "metadata": {},
   "source": [
    "## NumPy 数学函数"
   ]
  },
  {
   "cell_type": "markdown",
   "metadata": {},
   "source": [
    "* 三角函数：np.sin(), np.arcsin(), np.degrees()（弧度->角度）\n",
    "* 舍入函数：np.around(a, decimals)（四舍五入）, np.floor(), np.ceil()\n",
    "* 算数函数：np.add(), np.substract(), np.multiply(), np.divide(), np.reciprocal()（返回倒数）, np.power(), np.mod()（符合广播规则）, np.exp()（以e为底）, np.sqrt(), np.power()\n",
    "* 统计函数：np.amin(a, 0), np.amax(), np.ptp()（极差）, np.percentile(a, q, axis)（百分位数，q=50时为中位数）, np.median()（中位数）, np.mean(a, axis=0), np.average(a, weight=[1]), np.std()（标准差）, np.var()（方差）\n",
    "* 特殊值：np.pi"
   ]
  },
  {
   "cell_type": "markdown",
   "metadata": {},
   "source": [
    "### 线性代数\n",
    "* np.dot()：两个数组点积\n",
    "* np.vdot()：两个向量点积（若高维则展开）\n",
    "* np.inner()：两个数组的内积"
   ]
  }
 ],
 "metadata": {
  "kernelspec": {
   "display_name": "Python 3",
   "language": "python",
   "name": "python3"
  },
  "language_info": {
   "codemirror_mode": {
    "name": "ipython",
    "version": 3
   },
   "file_extension": ".py",
   "mimetype": "text/x-python",
   "name": "python",
   "nbconvert_exporter": "python",
   "pygments_lexer": "ipython3",
   "version": "3.7.6"
  }
 },
 "nbformat": 4,
 "nbformat_minor": 4
}
